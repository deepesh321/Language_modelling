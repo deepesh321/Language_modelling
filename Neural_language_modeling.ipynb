{
  "nbformat": 4,
  "nbformat_minor": 0,
  "metadata": {
    "colab": {
      "name": "Untitled",
      "provenance": [],
      "authorship_tag": "ABX9TyPE08rw2MQuJBnF9AHh/vPI",
      "include_colab_link": true
    },
    "kernelspec": {
      "name": "python3",
      "display_name": "Python 3"
    }
  },
  "cells": [
    {
      "cell_type": "markdown",
      "metadata": {
        "id": "view-in-github",
        "colab_type": "text"
      },
      "source": [
        "<a href=\"https://colab.research.google.com/github/deepesh321/Language_modelling/blob/master/Neural_language_modeling.ipynb\" target=\"_parent\"><img src=\"https://colab.research.google.com/assets/colab-badge.svg\" alt=\"Open In Colab\"/></a>"
      ]
    },
    {
      "cell_type": "code",
      "metadata": {
        "id": "7G7XkIhnNuB0",
        "colab_type": "code",
        "outputId": "405ac71a-1bfd-4493-a46c-e9e8da76eb45",
        "colab": {
          "base_uri": "https://localhost:8080/",
          "height": 80
        }
      },
      "source": [
        "import numpy as np\n",
        "import pandas as pd\n",
        "from keras.utils import to_categorical\n",
        "from keras.preprocessing.sequence import pad_sequences\n",
        "from keras.models import Sequential\n",
        "from keras.layers import LSTM, Dense, GRU, Embedding\n",
        "from keras.callbacks import EarlyStopping, ModelCheckpoint"
      ],
      "execution_count": 1,
      "outputs": [
        {
          "output_type": "stream",
          "text": [
            "Using TensorFlow backend.\n"
          ],
          "name": "stderr"
        },
        {
          "output_type": "display_data",
          "data": {
            "text/html": [
              "<p style=\"color: red;\">\n",
              "The default version of TensorFlow in Colab will soon switch to TensorFlow 2.x.<br>\n",
              "We recommend you <a href=\"https://www.tensorflow.org/guide/migrate\" target=\"_blank\">upgrade</a> now \n",
              "or ensure your notebook will continue to use TensorFlow 1.x via the <code>%tensorflow_version 1.x</code> magic:\n",
              "<a href=\"https://colab.research.google.com/notebooks/tensorflow_version.ipynb\" target=\"_blank\">more info</a>.</p>\n"
            ],
            "text/plain": [
              "<IPython.core.display.HTML object>"
            ]
          },
          "metadata": {
            "tags": []
          }
        }
      ]
    },
    {
      "cell_type": "code",
      "metadata": {
        "id": "cQkTbz8iN3gx",
        "colab_type": "code",
        "outputId": "2f717fe2-c79f-491a-ff39-08b9ab21d7bd",
        "colab": {
          "base_uri": "https://localhost:8080/",
          "height": 122
        }
      },
      "source": [
        "from google.colab import drive\n",
        "drive.mount('/content/drive')"
      ],
      "execution_count": 2,
      "outputs": [
        {
          "output_type": "stream",
          "text": [
            "Go to this URL in a browser: https://accounts.google.com/o/oauth2/auth?client_id=947318989803-6bn6qk8qdgf4n4g3pfee6491hc0brc4i.apps.googleusercontent.com&redirect_uri=urn%3aietf%3awg%3aoauth%3a2.0%3aoob&response_type=code&scope=email%20https%3a%2f%2fwww.googleapis.com%2fauth%2fdocs.test%20https%3a%2f%2fwww.googleapis.com%2fauth%2fdrive%20https%3a%2f%2fwww.googleapis.com%2fauth%2fdrive.photos.readonly%20https%3a%2f%2fwww.googleapis.com%2fauth%2fpeopleapi.readonly\n",
            "\n",
            "Enter your authorization code:\n",
            "··········\n",
            "Mounted at /content/drive\n"
          ],
          "name": "stdout"
        }
      ]
    },
    {
      "cell_type": "code",
      "metadata": {
        "id": "oLm3KdSMOMil",
        "colab_type": "code",
        "colab": {}
      },
      "source": [
        "data_text = \"\"\"The unanimous Declaration of the thirteen united States of America, When in the Course of human events, it becomes necessary for one people to dissolve the political bands which have connected them with another, and to assume among the powers of the earth, the separate and equal station to which the Laws of Nature and of Nature's God entitle them, a decent respect to the opinions of mankind requires that they should declare the causes which impel them to the separation.\n",
        "\n",
        "We hold these truths to be self-evident, that all men are created equal, that they are endowed by their Creator with certain unalienable Rights, that among these are Life, Liberty and the pursuit of Happiness.--That to secure these rights, Governments are instituted among Men, deriving their just powers from the consent of the governed, --That whenever any Form of Government becomes destructive of these ends, it is the Right of the People to alter or to abolish it, and to institute new Government, laying its foundation on such principles and organizing its powers in such form, as to them shall seem most likely to effect their Safety and Happiness. Prudence, indeed, will dictate that Governments long established should not be changed for light and transient causes; and accordingly all experience hath shewn, that mankind are more disposed to suffer, while evils are sufferable, than to right themselves by abolishing the forms to which they are accustomed. But when a long train of abuses and usurpations, pursuing invariably the same Object evinces a design to reduce them under absolute Despotism, it is their right, it is their duty, to throw off such Government, and to provide new Guards for their future security.--Such has been the patient sufferance of these Colonies; and such is now the necessity which constrains them to alter their former Systems of Government. The history of the present King of Great Britain is a history of repeated injuries and usurpations, all having in direct object the establishment of an absolute Tyranny over these States. To prove this, let Facts be submitted to a candid world.\n",
        "\n",
        "He has refused his Assent to Laws, the most wholesome and necessary for the public good.\n",
        "\n",
        "He has forbidden his Governors to pass Laws of immediate and pressing importance, unless suspended in their operation till his Assent should be obtained; and when so suspended, he has utterly neglected to attend to them.\n",
        "\n",
        "He has refused to pass other Laws for the accommodation of large districts of people, unless those people would relinquish the right of Representation in the Legislature, a right inestimable to them and formidable to tyrants only.\n",
        "\n",
        "He has called together legislative bodies at places unusual, uncomfortable, and distant from the depository of their public Records, for the sole purpose of fatiguing them into compliance with his measures.\n",
        "\n",
        "He has dissolved Representative Houses repeatedly, for opposing with manly firmness his invasions on the rights of the people.\n",
        "\n",
        "He has refused for a long time, after such dissolutions, to cause others to be elected; whereby the Legislative powers, incapable of Annihilation, have returned to the People at large for their exercise; the State remaining in the mean time exposed to all the dangers of invasion from without, and convulsions within.\n",
        "\n",
        "He has endeavoured to prevent the population of these States; for that purpose obstructing the Laws for Naturalization of Foreigners; refusing to pass others to encourage their migrations hither, and raising the conditions of new Appropriations of Lands.\n",
        "\n",
        "He has obstructed the Administration of Justice, by refusing his Assent to Laws for establishing Judiciary powers.\n",
        "\n",
        "He has made Judges dependent on his Will alone, for the tenure of their offices, and the amount and payment of their salaries.\n",
        "\n",
        "He has erected a multitude of New Offices, and sent hither swarms of Officers to harrass our people, and eat out their substance.\n",
        "\n",
        "He has kept among us, in times of peace, Standing Armies without the Consent of our legislatures.\n",
        "\n",
        "He has affected to render the Military independent of and superior to the Civil power.\n",
        "\n",
        "He has combined with others to subject us to a jurisdiction foreign to our constitution, and unacknowledged by our laws; giving his Assent to their Acts of pretended Legislation:\n",
        "\n",
        "For Quartering large bodies of armed troops among us:\n",
        "\n",
        "For protecting them, by a mock Trial, from punishment for any Murders which they should commit on the Inhabitants of these States:\n",
        "\n",
        "For cutting off our Trade with all parts of the world:\n",
        "\n",
        "For imposing Taxes on us without our Consent:\n",
        "\n",
        "For depriving us in many cases, of the benefits of Trial by Jury:\n",
        "\n",
        "For transporting us beyond Seas to be tried for pretended offences\n",
        "\n",
        "For abolishing the free System of English Laws in a neighbouring Province, establishing therein an Arbitrary government, and enlarging its Boundaries so as to render it at once an example and fit instrument for introducing the same absolute rule into these Colonies:\n",
        "\n",
        "For taking away our Charters, abolishing our most valuable Laws, and altering fundamentally the Forms of our Governments:\n",
        "\n",
        "For suspending our own Legislatures, and declaring themselves invested with power to legislate for us in all cases whatsoever.\n",
        "\n",
        "He has abdicated Government here, by declaring us out of his Protection and waging War against us.\n",
        "\n",
        "He has plundered our seas, ravaged our Coasts, burnt our towns, and destroyed the lives of our people.\n",
        "\n",
        "He is at this time transporting large Armies of foreign Mercenaries to compleat the works of death, desolation and tyranny, already begun with circumstances of Cruelty & perfidy scarcely paralleled in the most barbarous ages, and totally unworthy the Head of a civilized nation.\n",
        "\n",
        "He has constrained our fellow Citizens taken Captive on the high Seas to bear Arms against their Country, to become the executioners of their friends and Brethren, or to fall themselves by their Hands.\n",
        "\n",
        "He has excited domestic insurrections amongst us, and has endeavoured to bring on the inhabitants of our frontiers, the merciless Indian Savages, whose known rule of warfare, is an undistinguished destruction of all ages, sexes and conditions.\n",
        "\n",
        "In every stage of these Oppressions We have Petitioned for Redress in the most humble terms: Our repeated Petitions have been answered only by repeated injury. A Prince whose character is thus marked by every act which may define a Tyrant, is unfit to be the ruler of a free people.\n",
        "\n",
        "Nor have We been wanting in attentions to our Brittish brethren. We have warned them from time to time of attempts by their legislature to extend an unwarrantable jurisdiction over us. We have reminded them of the circumstances of our emigration and settlement here. We have appealed to their native justice and magnanimity, and we have conjured them by the ties of our common kindred to disavow these usurpations, which, would inevitably interrupt our connections and correspondence. They too have been deaf to the voice of justice and of consanguinity. We must, therefore, acquiesce in the necessity, which denounces our Separation, and hold them, as we hold the rest of mankind, Enemies in War, in Peace Friends.\n",
        "\n",
        "We, therefore, the Representatives of the united States of America, in General Congress, Assembled, appealing to the Supreme Judge of the world for the rectitude of our intentions, do, in the Name, and by Authority of the good People of these Colonies, solemnly publish and declare, That these United Colonies are, and of Right ought to be Free and Independent States; that they are Absolved from all Allegiance to the British Crown, and that all political connection between them and the State of Great Britain, is and ought to be totally dissolved; and that as Free and Independent States, they have full Power to levy War, conclude Peace, contract Alliances, establish Commerce, and to do all other Acts and Things which Independent States may of right do. And for the support of this Declaration, with a firm reliance on the protection of divine Providence, we mutually pledge to each other our Lives, our Fortunes and our sacred Honor.\"\"\""
      ],
      "execution_count": 0,
      "outputs": []
    },
    {
      "cell_type": "code",
      "metadata": {
        "id": "VBLY7trRO7pi",
        "colab_type": "code",
        "colab": {}
      },
      "source": [
        "#preprocessing\n",
        "import re\n",
        "def cleaning_text(text):\n",
        "  new_text=text.lower()\n",
        "  new_text = re.sub(r\"'s\\b\",\"\",new_text)\n",
        "  new_text = re.sub(\"[^a-zA-Z]\", \" \", new_text)\n",
        "  long_words=[]\n",
        "  for i in new_text.split():\n",
        "    if len(i)>=3:\n",
        "      long_words.append(i)\n",
        "  return (\" \".join(long_words)).strip()\n",
        "\n",
        "data_text=cleaning_text(data_text)\n"
      ],
      "execution_count": 0,
      "outputs": []
    },
    {
      "cell_type": "code",
      "metadata": {
        "id": "p5O_kxCdP8Ez",
        "colab_type": "code",
        "colab": {}
      },
      "source": [
        "#creating sequence\n",
        "\n",
        "def create_seq(text):\n",
        "  length=30\n",
        "  sequences=[]\n",
        "  for i in range(length,len(text)):\n",
        "    seq=text[i-length:i+1]\n",
        "    sequences.append(seq)\n",
        "\n",
        "  return sequences\n",
        "sequences=create_seq(data_text)\n",
        "#print(sequences)"
      ],
      "execution_count": 0,
      "outputs": []
    },
    {
      "cell_type": "code",
      "metadata": {
        "id": "RzElvjrsRIL4",
        "colab_type": "code",
        "colab": {}
      },
      "source": [
        "#Encoding Sequences\n",
        "chars = sorted(list(set(data_text)))\n",
        "#print(chars)\n",
        "mapping = dict((c, i) for i, c in enumerate(chars))\n",
        "#print(mapping)\n",
        "def encode_seq(seq):\n",
        "  sequences=[]\n",
        "  for line in seq:\n",
        "    encoded_seq = [mapping[char] for char in line]\n",
        "    sequences.append(encoded_seq)\n",
        "\n",
        "  return sequences\n",
        "\n",
        "sequences = encode_seq(sequences)\n",
        "#print(sequences)"
      ],
      "execution_count": 0,
      "outputs": []
    },
    {
      "cell_type": "code",
      "metadata": {
        "id": "sJ6503OgSscQ",
        "colab_type": "code",
        "colab": {}
      },
      "source": [
        "from sklearn.model_selection import train_test_split\n",
        "vocab=len(mapping)\n",
        "sequences=np.array(sequences)\n",
        "x, y = sequences[:,:-1], sequences[:,-1]\n",
        "#print(x)\n",
        "#print(y)\n",
        "#print(x.shape)\n",
        "#print(y.shape)\n",
        "y = to_categorical(y, num_classes=vocab)\n",
        "#print(y)\n",
        "X_tr, X_val, y_tr, y_val = train_test_split(x, y, test_size=0.1, random_state=42)\n",
        "#print('Train shape:', X_tr.shape, 'Val shape:', X_val.shape,'y_shape:',y_tr.shape)"
      ],
      "execution_count": 0,
      "outputs": []
    },
    {
      "cell_type": "code",
      "metadata": {
        "id": "iHmPBMV-TjD-",
        "colab_type": "code",
        "outputId": "da756a0c-b515-4b28-b2ae-26827da16c79",
        "colab": {
          "base_uri": "https://localhost:8080/",
          "height": 1000
        }
      },
      "source": [
        "model=Sequential()\n",
        "model.add(Embedding(vocab,50,input_length=30,trainable=False))\n",
        "model.add(GRU(150,recurrent_dropout=0.1, dropout=0.1))\n",
        "model.add(Dense(vocab, activation='softmax'))\n",
        "print(model.summary())\n",
        "model.compile(loss='categorical_crossentropy', metrics=['acc'], optimizer='adam')\n",
        "model.fit(X_tr, y_tr, epochs=40, verbose=2, validation_data=(X_val, y_val))"
      ],
      "execution_count": 10,
      "outputs": [
        {
          "output_type": "stream",
          "text": [
            "Model: \"sequential_2\"\n",
            "_________________________________________________________________\n",
            "Layer (type)                 Output Shape              Param #   \n",
            "=================================================================\n",
            "embedding_2 (Embedding)      (None, 30, 50)            1350      \n",
            "_________________________________________________________________\n",
            "gru_2 (GRU)                  (None, 150)               90450     \n",
            "_________________________________________________________________\n",
            "dense_2 (Dense)              (None, 27)                4077      \n",
            "=================================================================\n",
            "Total params: 95,877\n",
            "Trainable params: 94,527\n",
            "Non-trainable params: 1,350\n",
            "_________________________________________________________________\n",
            "None\n",
            "Train on 6346 samples, validate on 706 samples\n",
            "Epoch 1/40\n",
            " - 8s - loss: 2.8948 - acc: 0.1571 - val_loss: 2.7998 - val_acc: 0.2068\n",
            "Epoch 2/40\n",
            " - 7s - loss: 2.6633 - acc: 0.2268 - val_loss: 2.5622 - val_acc: 0.2436\n",
            "Epoch 3/40\n",
            " - 7s - loss: 2.4665 - acc: 0.2832 - val_loss: 2.4055 - val_acc: 0.3144\n",
            "Epoch 4/40\n",
            " - 7s - loss: 2.3491 - acc: 0.3122 - val_loss: 2.3330 - val_acc: 0.3300\n",
            "Epoch 5/40\n",
            " - 7s - loss: 2.2731 - acc: 0.3379 - val_loss: 2.2685 - val_acc: 0.3569\n",
            "Epoch 6/40\n",
            " - 7s - loss: 2.2082 - acc: 0.3448 - val_loss: 2.2277 - val_acc: 0.3484\n",
            "Epoch 7/40\n",
            " - 7s - loss: 2.1500 - acc: 0.3651 - val_loss: 2.1945 - val_acc: 0.3569\n",
            "Epoch 8/40\n",
            " - 7s - loss: 2.1116 - acc: 0.3714 - val_loss: 2.1592 - val_acc: 0.3739\n",
            "Epoch 9/40\n",
            " - 7s - loss: 2.0699 - acc: 0.3859 - val_loss: 2.1378 - val_acc: 0.3768\n",
            "Epoch 10/40\n",
            " - 7s - loss: 2.0336 - acc: 0.3995 - val_loss: 2.1270 - val_acc: 0.3881\n",
            "Epoch 11/40\n",
            " - 7s - loss: 1.9949 - acc: 0.4061 - val_loss: 2.1001 - val_acc: 0.3853\n",
            "Epoch 12/40\n",
            " - 7s - loss: 1.9660 - acc: 0.4132 - val_loss: 2.0708 - val_acc: 0.4051\n",
            "Epoch 13/40\n",
            " - 7s - loss: 1.9279 - acc: 0.4222 - val_loss: 2.0823 - val_acc: 0.4207\n",
            "Epoch 14/40\n",
            " - 7s - loss: 1.8971 - acc: 0.4329 - val_loss: 2.0504 - val_acc: 0.4221\n",
            "Epoch 15/40\n",
            " - 7s - loss: 1.8651 - acc: 0.4384 - val_loss: 2.0485 - val_acc: 0.4164\n",
            "Epoch 16/40\n",
            " - 7s - loss: 1.8341 - acc: 0.4456 - val_loss: 2.0299 - val_acc: 0.4391\n",
            "Epoch 17/40\n",
            " - 7s - loss: 1.8042 - acc: 0.4612 - val_loss: 2.0118 - val_acc: 0.4306\n",
            "Epoch 18/40\n",
            " - 7s - loss: 1.7678 - acc: 0.4682 - val_loss: 2.0118 - val_acc: 0.4320\n",
            "Epoch 19/40\n",
            " - 7s - loss: 1.7588 - acc: 0.4738 - val_loss: 2.0127 - val_acc: 0.4433\n",
            "Epoch 20/40\n",
            " - 7s - loss: 1.7068 - acc: 0.4842 - val_loss: 2.0265 - val_acc: 0.4476\n",
            "Epoch 21/40\n",
            " - 7s - loss: 1.6853 - acc: 0.4929 - val_loss: 2.0052 - val_acc: 0.4462\n",
            "Epoch 22/40\n",
            " - 7s - loss: 1.6491 - acc: 0.5009 - val_loss: 2.0028 - val_acc: 0.4490\n",
            "Epoch 23/40\n",
            " - 7s - loss: 1.6245 - acc: 0.5098 - val_loss: 2.0033 - val_acc: 0.4433\n",
            "Epoch 24/40\n",
            " - 7s - loss: 1.5935 - acc: 0.5156 - val_loss: 1.9839 - val_acc: 0.4589\n",
            "Epoch 25/40\n",
            " - 7s - loss: 1.5695 - acc: 0.5249 - val_loss: 1.9891 - val_acc: 0.4462\n",
            "Epoch 26/40\n",
            " - 7s - loss: 1.5453 - acc: 0.5351 - val_loss: 2.0275 - val_acc: 0.4547\n",
            "Epoch 27/40\n",
            " - 7s - loss: 1.5181 - acc: 0.5375 - val_loss: 2.0243 - val_acc: 0.4504\n",
            "Epoch 28/40\n",
            " - 7s - loss: 1.5034 - acc: 0.5424 - val_loss: 2.0425 - val_acc: 0.4518\n",
            "Epoch 29/40\n",
            " - 7s - loss: 1.4650 - acc: 0.5490 - val_loss: 2.0258 - val_acc: 0.4504\n",
            "Epoch 30/40\n",
            " - 7s - loss: 1.4371 - acc: 0.5591 - val_loss: 2.0207 - val_acc: 0.4448\n",
            "Epoch 31/40\n",
            " - 7s - loss: 1.4008 - acc: 0.5682 - val_loss: 2.0484 - val_acc: 0.4561\n",
            "Epoch 32/40\n",
            " - 7s - loss: 1.3837 - acc: 0.5749 - val_loss: 2.0346 - val_acc: 0.4674\n",
            "Epoch 33/40\n",
            " - 7s - loss: 1.3760 - acc: 0.5772 - val_loss: 2.0336 - val_acc: 0.4518\n",
            "Epoch 34/40\n",
            " - 7s - loss: 1.3370 - acc: 0.5859 - val_loss: 2.0550 - val_acc: 0.4646\n",
            "Epoch 35/40\n",
            " - 7s - loss: 1.3239 - acc: 0.5912 - val_loss: 2.0396 - val_acc: 0.4561\n",
            "Epoch 36/40\n",
            " - 7s - loss: 1.3009 - acc: 0.5960 - val_loss: 2.0375 - val_acc: 0.4717\n",
            "Epoch 37/40\n",
            " - 7s - loss: 1.2842 - acc: 0.6109 - val_loss: 2.0734 - val_acc: 0.4547\n",
            "Epoch 38/40\n",
            " - 7s - loss: 1.2584 - acc: 0.6095 - val_loss: 2.0676 - val_acc: 0.4603\n",
            "Epoch 39/40\n",
            " - 7s - loss: 1.2437 - acc: 0.6061 - val_loss: 2.0824 - val_acc: 0.4646\n",
            "Epoch 40/40\n",
            " - 7s - loss: 1.2333 - acc: 0.6139 - val_loss: 2.0830 - val_acc: 0.4688\n"
          ],
          "name": "stdout"
        },
        {
          "output_type": "execute_result",
          "data": {
            "text/plain": [
              "<keras.callbacks.History at 0x7ff73dac6a90>"
            ]
          },
          "metadata": {
            "tags": []
          },
          "execution_count": 10
        }
      ]
    },
    {
      "cell_type": "code",
      "metadata": {
        "id": "68WBKUJhHp_1",
        "colab_type": "code",
        "outputId": "a18a10ab-190e-41fb-d9ef-91f09db54e19",
        "colab": {
          "base_uri": "https://localhost:8080/",
          "height": 34
        }
      },
      "source": [
        "def generate_seq(model, mapping, seq_length, seed_text, n_chars):\n",
        "\tin_text = seed_text\n",
        "\tfor _ in range(n_chars):\n",
        "\t\tencoded = [mapping[char] for char in in_text]\n",
        "\t\tencoded = pad_sequences([encoded], maxlen=seq_length, truncating='pre')\n",
        "\t\tyhat = model.predict_classes(encoded, verbose=0)\n",
        "\t\tout_char = ''\n",
        "\t\tfor char, index in mapping.items():\n",
        "\t\t\tif index == yhat:\n",
        "\t\t\t\tout_char = char\n",
        "\t\t\t\tbreak\n",
        "\t\tin_text += char\n",
        "\treturn in_text\n",
        "inp='Army and'\n",
        "print(generate_seq(model,mapping,30,inp.lower(),15))"
      ],
      "execution_count": 11,
      "outputs": [
        {
          "output_type": "stream",
          "text": [
            "army and the porilica i\n"
          ],
          "name": "stdout"
        }
      ]
    }
  ]
}