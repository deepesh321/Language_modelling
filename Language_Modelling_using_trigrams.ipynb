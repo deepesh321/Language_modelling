{
  "nbformat": 4,
  "nbformat_minor": 0,
  "metadata": {
    "colab": {
      "name": "Language_Modelling_using_trigrams",
      "provenance": [],
      "authorship_tag": "ABX9TyPMsaHyTlN9wBFe8bjhaVsC",
      "include_colab_link": true
    },
    "kernelspec": {
      "name": "python3",
      "display_name": "Python 3"
    },
    "accelerator": "TPU"
  },
  "cells": [
    {
      "cell_type": "markdown",
      "metadata": {
        "id": "view-in-github",
        "colab_type": "text"
      },
      "source": [
        "<a href=\"https://colab.research.google.com/github/deepesh321/Language_modelling/blob/master/Language_Modelling_using_trigrams.ipynb\" target=\"_parent\"><img src=\"https://colab.research.google.com/assets/colab-badge.svg\" alt=\"Open In Colab\"/></a>"
      ]
    },
    {
      "cell_type": "code",
      "metadata": {
        "id": "AtBCDs0DIXt9",
        "colab_type": "code",
        "colab": {
          "base_uri": "https://localhost:8080/",
          "height": 85
        },
        "outputId": "8d0a78b1-50b6-475c-88e4-0f6ef3c334cc"
      },
      "source": [
        "from nltk .corpus import reuters\n",
        "import nltk\n",
        "nltk.download('reuters')\n",
        "nltk.download('punkt')\n",
        "from nltk import bigrams,trigrams\n",
        "from collections import Counter,defaultdict"
      ],
      "execution_count": 2,
      "outputs": [
        {
          "output_type": "stream",
          "text": [
            "[nltk_data] Downloading package reuters to /root/nltk_data...\n",
            "[nltk_data]   Package reuters is already up-to-date!\n",
            "[nltk_data] Downloading package punkt to /root/nltk_data...\n",
            "[nltk_data]   Unzipping tokenizers/punkt.zip.\n"
          ],
          "name": "stdout"
        }
      ]
    },
    {
      "cell_type": "code",
      "metadata": {
        "id": "je7GXf20I4M7",
        "colab_type": "code",
        "colab": {}
      },
      "source": [
        "model=defaultdict(lambda: defaultdict(lambda:0))"
      ],
      "execution_count": 0,
      "outputs": []
    },
    {
      "cell_type": "code",
      "metadata": {
        "id": "IhtTa-a-JJbz",
        "colab_type": "code",
        "colab": {}
      },
      "source": [
        "for sentence in reuters.sents():\n",
        "  for w1,w2,w3 in trigrams(sentence,pad_right=True,pad_left=True):\n",
        "    model[(w1,w2)][w3]+=1\n",
        "#print(model)\n"
      ],
      "execution_count": 0,
      "outputs": []
    },
    {
      "cell_type": "code",
      "metadata": {
        "id": "h5IUTxOYPvjr",
        "colab_type": "code",
        "colab": {}
      },
      "source": [
        "for w1_w2 in model:\n",
        "  total_count=float(sum(model[w1_w2].values()))  #finding total occurance\n",
        "  for w3 in model[w1_w2]:\n",
        "    model[w1_w2][w3]/=total_count  #probability of occurance of w3 , given w1 and w2."
      ],
      "execution_count": 0,
      "outputs": []
    },
    {
      "cell_type": "code",
      "metadata": {
        "id": "QraziWzAQTff",
        "colab_type": "code",
        "colab": {
          "base_uri": "https://localhost:8080/",
          "height": 272
        },
        "outputId": "90982f30-a9ae-4d02-9e9d-84534f7e92bc"
      },
      "source": [
        "#predictions for the next word\n",
        "dict(model['today','the'])"
      ],
      "execution_count": 8,
      "outputs": [
        {
          "output_type": "execute_result",
          "data": {
            "text/plain": [
              "{'Bank': 0.05555555555555555,\n",
              " 'European': 0.05555555555555555,\n",
              " 'Higher': 0.05555555555555555,\n",
              " 'Italian': 0.05555555555555555,\n",
              " 'Turkish': 0.05555555555555555,\n",
              " 'company': 0.16666666666666666,\n",
              " 'emirate': 0.05555555555555555,\n",
              " 'increase': 0.05555555555555555,\n",
              " 'newspaper': 0.05555555555555555,\n",
              " 'options': 0.05555555555555555,\n",
              " 'overseas': 0.05555555555555555,\n",
              " 'pound': 0.05555555555555555,\n",
              " 'price': 0.1111111111111111,\n",
              " 'public': 0.05555555555555555,\n",
              " 'time': 0.05555555555555555}"
            ]
          },
          "metadata": {
            "tags": []
          },
          "execution_count": 8
        }
      ]
    },
    {
      "cell_type": "code",
      "metadata": {
        "id": "l7L_qXGDRoVs",
        "colab_type": "code",
        "colab": {
          "base_uri": "https://localhost:8080/",
          "height": 445
        },
        "outputId": "686a9d67-12c5-4001-c616-70f6379942fe"
      },
      "source": [
        "#generating a random text using ngram model\n",
        "import random\n",
        "text=['today','the']\n",
        "sentence_finished=False\n",
        "while not sentence_finished:\n",
        "  r=random.random()\n",
        "  accumulator=.0\n",
        "\n",
        "  for word in model[tuple(text[-2:])].keys():\n",
        "    accumulator+=model[tuple(text[-2:])][word] #probability of next word given two words\n",
        "    if accumulator >=r:  #if probability is greater than threshold or not\n",
        "      text.append(word)\n",
        "      break\n",
        "  print(text)\n",
        "  if text[-2:] == [None, None]:  # if last two words are None or not\n",
        "      sentence_finished = True\n",
        "print (' '.join([t for t in text if t]))"
      ],
      "execution_count": 11,
      "outputs": [
        {
          "output_type": "stream",
          "text": [
            "['today', 'the', 'overseas']\n",
            "['today', 'the', 'overseas', 'foreign']\n",
            "['today', 'the', 'overseas', 'foreign', 'exchange']\n",
            "['today', 'the', 'overseas', 'foreign', 'exchange', 'markets']\n",
            "['today', 'the', 'overseas', 'foreign', 'exchange', 'markets', 'to']\n",
            "['today', 'the', 'overseas', 'foreign', 'exchange', 'markets', 'to', 'support']\n",
            "['today', 'the', 'overseas', 'foreign', 'exchange', 'markets', 'to', 'support', 'a']\n",
            "['today', 'the', 'overseas', 'foreign', 'exchange', 'markets', 'to', 'support', 'a', 'trade']\n",
            "['today', 'the', 'overseas', 'foreign', 'exchange', 'markets', 'to', 'support', 'a', 'trade', 'ban']\n",
            "['today', 'the', 'overseas', 'foreign', 'exchange', 'markets', 'to', 'support', 'a', 'trade', 'ban', 'imposed']\n",
            "['today', 'the', 'overseas', 'foreign', 'exchange', 'markets', 'to', 'support', 'a', 'trade', 'ban', 'imposed', 'by']\n",
            "['today', 'the', 'overseas', 'foreign', 'exchange', 'markets', 'to', 'support', 'a', 'trade', 'ban', 'imposed', 'by', 'the']\n",
            "['today', 'the', 'overseas', 'foreign', 'exchange', 'markets', 'to', 'support', 'a', 'trade', 'ban', 'imposed', 'by', 'the', 'end']\n",
            "['today', 'the', 'overseas', 'foreign', 'exchange', 'markets', 'to', 'support', 'a', 'trade', 'ban', 'imposed', 'by', 'the', 'end', 'of']\n",
            "['today', 'the', 'overseas', 'foreign', 'exchange', 'markets', 'to', 'support', 'a', 'trade', 'ban', 'imposed', 'by', 'the', 'end', 'of', 'April']\n",
            "['today', 'the', 'overseas', 'foreign', 'exchange', 'markets', 'to', 'support', 'a', 'trade', 'ban', 'imposed', 'by', 'the', 'end', 'of', 'April', ',']\n",
            "['today', 'the', 'overseas', 'foreign', 'exchange', 'markets', 'to', 'support', 'a', 'trade', 'ban', 'imposed', 'by', 'the', 'end', 'of', 'April', ',', 'provisional']\n",
            "['today', 'the', 'overseas', 'foreign', 'exchange', 'markets', 'to', 'support', 'a', 'trade', 'ban', 'imposed', 'by', 'the', 'end', 'of', 'April', ',', 'provisional', 'Bundesbank']\n",
            "['today', 'the', 'overseas', 'foreign', 'exchange', 'markets', 'to', 'support', 'a', 'trade', 'ban', 'imposed', 'by', 'the', 'end', 'of', 'April', ',', 'provisional', 'Bundesbank', 'data']\n",
            "['today', 'the', 'overseas', 'foreign', 'exchange', 'markets', 'to', 'support', 'a', 'trade', 'ban', 'imposed', 'by', 'the', 'end', 'of', 'April', ',', 'provisional', 'Bundesbank', 'data', 'showed']\n",
            "['today', 'the', 'overseas', 'foreign', 'exchange', 'markets', 'to', 'support', 'a', 'trade', 'ban', 'imposed', 'by', 'the', 'end', 'of', 'April', ',', 'provisional', 'Bundesbank', 'data', 'showed', '.']\n",
            "['today', 'the', 'overseas', 'foreign', 'exchange', 'markets', 'to', 'support', 'a', 'trade', 'ban', 'imposed', 'by', 'the', 'end', 'of', 'April', ',', 'provisional', 'Bundesbank', 'data', 'showed', '.', None]\n",
            "['today', 'the', 'overseas', 'foreign', 'exchange', 'markets', 'to', 'support', 'a', 'trade', 'ban', 'imposed', 'by', 'the', 'end', 'of', 'April', ',', 'provisional', 'Bundesbank', 'data', 'showed', '.', None, None]\n",
            "today the overseas foreign exchange markets to support a trade ban imposed by the end of April , provisional Bundesbank data showed .\n"
          ],
          "name": "stdout"
        }
      ]
    }
  ]
}